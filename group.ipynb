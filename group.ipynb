{
 "cells": [
  {
   "cell_type": "code",
   "execution_count": 47,
   "metadata": {},
   "outputs": [
    {
     "name": "stdout",
     "output_type": "stream",
     "text": [
      "(2, 3, 1)\n",
      "(3, 1, 2)\n"
     ]
    }
   ],
   "source": [
    "import math\n",
    "\n",
    "class e:\n",
    "    def __init__(self, p_x):\n",
    "        self.x = tuple()\n",
    "        self.x = p_x\n",
    "        \n",
    "    def __str__(self):\n",
    "        return str(self.x)\n",
    "    \n",
    "    def __mul__(self, other):\n",
    "        return t(tuple(other.x[self.x[i]-1] for i in range(0, len(self.x))))\n",
    "    \n",
    "    def __invert__(self):\n",
    "        return t(tuple(self.x.index(i+1)+1 for i in range(0, len(self.x))))\n",
    "\n",
    "class T:\n",
    "    def __init__(self, l):\n",
    "        \n",
    "\n",
    "class G:\n",
    "    def __init__(self, p_n):\n",
    "        self.N = math.factorial(p_n)\n",
    "        self.l = []\n",
    "        self.l.append(e((1,2,3)))\n",
    "        self.l.append(e((3,1,2)))\n",
    "        self.l.append(e((2,3,1)))\n",
    "        self.l.append(e((1,3,2)))\n",
    "        self.l.append(e((3,2,1)))\n",
    "        self.l.append(e((2,1,3)))\n",
    "        \n",
    "    def __getitem__(self,key):\n",
    "        return self.l[key - 1]\n",
    "    \n",
    "g = G(3)\n",
    "print(g[2]*g[2])\n",
    "print(~g[3])"
   ]
  }
 ],
 "metadata": {
  "kernelspec": {
   "display_name": "Python 3",
   "language": "python",
   "name": "python3"
  },
  "language_info": {
   "codemirror_mode": {
    "name": "ipython",
    "version": 3
   },
   "file_extension": ".py",
   "mimetype": "text/x-python",
   "name": "python",
   "nbconvert_exporter": "python",
   "pygments_lexer": "ipython3",
   "version": "3.6.1"
  }
 },
 "nbformat": 4,
 "nbformat_minor": 2
}
